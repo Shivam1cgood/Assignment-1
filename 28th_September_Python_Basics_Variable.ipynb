{
 "cells": [
  {
   "cell_type": "code",
   "execution_count": 1,
   "id": "51c02a23-44a2-4ae0-bdaf-933bd83b0bb4",
   "metadata": {},
   "outputs": [
    {
     "data": {
      "text/plain": [
       "' Q1. Declare two variables, `x` and `y`, and assign them integer values.\\nSwap the values of these variables without using any temporary\\nvariable.'"
      ]
     },
     "execution_count": 1,
     "metadata": {},
     "output_type": "execute_result"
    }
   ],
   "source": [
    "''' Q1. Declare two variables, `x` and `y`, and assign them integer values.\n",
    "Swap the values of these variables without using any temporary\n",
    "variable.'''\n"
   ]
  },
  {
   "cell_type": "code",
   "execution_count": 2,
   "id": "44298e4a-5ebe-4906-95b2-d0d6803e391b",
   "metadata": {},
   "outputs": [],
   "source": [
    "# Declaration of variable\n",
    "x = 10\n",
    "y = 20\n",
    "\n",
    "# Changing the value of x to x*y\n",
    "x = x*y\n",
    "\n",
    "# Since the value of x is x*y\n",
    "# When we divide x  by y i.e., (x*y)/y\n",
    "# we'll get x ,which is then assigned to y\n",
    "y = x/y\n",
    "\n",
    "# now the value of y contains former value of x\n",
    "# So, if we divide the x by y \n",
    "# we will now get the former value of y\n",
    "x = x/y\n",
    "\n",
    "\n"
   ]
  },
  {
   "cell_type": "code",
   "execution_count": 3,
   "id": "a358df99-2c9b-4b88-b757-73f265e4fc39",
   "metadata": {},
   "outputs": [
    {
     "data": {
      "text/plain": [
       "20.0"
      ]
     },
     "execution_count": 3,
     "metadata": {},
     "output_type": "execute_result"
    }
   ],
   "source": [
    "# Swapped values of x\n",
    "x"
   ]
  },
  {
   "cell_type": "code",
   "execution_count": 4,
   "id": "ace348da-8ad3-4e63-950a-f5ada38d5e4d",
   "metadata": {},
   "outputs": [
    {
     "data": {
      "text/plain": [
       "10.0"
      ]
     },
     "execution_count": 4,
     "metadata": {},
     "output_type": "execute_result"
    }
   ],
   "source": [
    "# Swapped value of y\n",
    "y\n"
   ]
  },
  {
   "cell_type": "code",
   "execution_count": null,
   "id": "880d1f4e-7c51-4eea-8fd1-287611a08487",
   "metadata": {},
   "outputs": [],
   "source": []
  },
  {
   "cell_type": "code",
   "execution_count": 5,
   "id": "720eef47-1a21-4071-9e6c-dd4e3bf12af7",
   "metadata": {},
   "outputs": [
    {
     "data": {
      "text/plain": [
       "'Q2. Create a program that calculates the area of a rectangle. Take the\\nlength and width as inputs from the user and store them in variables.\\nCalculate and display the area.'"
      ]
     },
     "execution_count": 5,
     "metadata": {},
     "output_type": "execute_result"
    }
   ],
   "source": [
    "\n",
    "'''Q2. Create a program that calculates the area of a rectangle. Take the\n",
    "length and width as inputs from the user and store them in variables.\n",
    "Calculate and display the area.'''"
   ]
  },
  {
   "cell_type": "code",
   "execution_count": 7,
   "id": "6d038fd0-2d4b-4bfb-88ef-3b986535c926",
   "metadata": {},
   "outputs": [
    {
     "name": "stdout",
     "output_type": "stream",
     "text": [
      "Enter length of the rectangle : \n"
     ]
    },
    {
     "name": "stdin",
     "output_type": "stream",
     "text": [
      " 3\n"
     ]
    },
    {
     "name": "stdout",
     "output_type": "stream",
     "text": [
      "Enter width of the rectangle : \n"
     ]
    },
    {
     "name": "stdin",
     "output_type": "stream",
     "text": [
      " 3\n"
     ]
    },
    {
     "name": "stdout",
     "output_type": "stream",
     "text": [
      "Area of rectangle is : \n"
     ]
    },
    {
     "data": {
      "text/plain": [
       "9"
      ]
     },
     "execution_count": 7,
     "metadata": {},
     "output_type": "execute_result"
    }
   ],
   "source": [
    "#Taking integer input from the user for length and breadth\n",
    "print(\"Enter length of the rectangle : \")\n",
    "\n",
    "length = int(input())\n",
    "\n",
    "print(\"Enter width of the rectangle : \")\n",
    "width = int(input())\n",
    "\n",
    "# Calculating the area\n",
    "area = length*width\n",
    "\n",
    "#Displaying area\n",
    "print(\"Area of rectangle is : \")\n",
    "area"
   ]
  },
  {
   "cell_type": "code",
   "execution_count": 8,
   "id": "03b3b4d8-d819-4f29-a3e9-3086ba5124de",
   "metadata": {},
   "outputs": [
    {
     "data": {
      "text/plain": [
       "'\\nQ3. Write a Python program that converts temperature from Celsius to\\nFahrenheit. Take the temperature in Celsius as input, store it in a\\nvariable, convert it to Fahrenheit, and display the result.\\n'"
      ]
     },
     "execution_count": 8,
     "metadata": {},
     "output_type": "execute_result"
    }
   ],
   "source": [
    "'''\n",
    "Q3. Write a Python program that converts temperature from Celsius to\n",
    "Fahrenheit. Take the temperature in Celsius as input, store it in a\n",
    "variable, convert it to Fahrenheit, and display the result.\n",
    "'''"
   ]
  },
  {
   "cell_type": "code",
   "execution_count": 9,
   "id": "54dcc828-6301-40fb-afb0-d17c7bcaefb1",
   "metadata": {},
   "outputs": [
    {
     "name": "stdout",
     "output_type": "stream",
     "text": [
      "Enter temperature in celsius : \n"
     ]
    },
    {
     "name": "stdin",
     "output_type": "stream",
     "text": [
      " 32\n"
     ]
    },
    {
     "name": "stdout",
     "output_type": "stream",
     "text": [
      "Temperaature n=in fahrenheit is : \n"
     ]
    },
    {
     "data": {
      "text/plain": [
       "89.6"
      ]
     },
     "execution_count": 9,
     "metadata": {},
     "output_type": "execute_result"
    }
   ],
   "source": [
    "\n",
    "# °F = °C × (9/5) + 32\n",
    "print(\"Enter temperature in celsius : \")\n",
    "cel = int(input())\n",
    "\n",
    "fahrenht = cel*(9/5) + 32\n",
    "\n",
    "print(\"Temperaature n=in fahrenheit is : \")\n",
    "fahrenht"
   ]
  },
  {
   "cell_type": "code",
   "execution_count": 10,
   "id": "b0555709-cd58-4d06-9852-d662f25c1ef5",
   "metadata": {},
   "outputs": [
    {
     "data": {
      "text/plain": [
       "'\\nQ1. Write a Python program that takes a string as input and prints the\\nlength of the string.\\n'"
      ]
     },
     "execution_count": 10,
     "metadata": {},
     "output_type": "execute_result"
    }
   ],
   "source": [
    "# String based questions\n",
    "'''\n",
    "Q1. Write a Python program that takes a string as input and prints the\n",
    "length of the string.\n",
    "'''"
   ]
  },
  {
   "cell_type": "code",
   "execution_count": 12,
   "id": "d7fb9df8-706a-4795-a979-b29a7a5845dd",
   "metadata": {},
   "outputs": [
    {
     "name": "stdin",
     "output_type": "stream",
     "text": [
      " fads\n"
     ]
    },
    {
     "name": "stdout",
     "output_type": "stream",
     "text": [
      "Length of String is : \n"
     ]
    },
    {
     "data": {
      "text/plain": [
       "4"
      ]
     },
     "execution_count": 12,
     "metadata": {},
     "output_type": "execute_result"
    }
   ],
   "source": [
    "a = input()\n",
    "print(\"Length of String is : \" )\n",
    "\n",
    "# len() function will calculate the length of String\n",
    "len(a)"
   ]
  },
  {
   "cell_type": "code",
   "execution_count": 14,
   "id": "1d29bcc0-6c1c-4042-b382-b698f4b96c45",
   "metadata": {},
   "outputs": [
    {
     "data": {
      "text/plain": [
       "'\\nQ2. Create a program that takes a sentence from the user and counts the\\nnumber of vowels (a, e, i, o, u) in the string.\\n'"
      ]
     },
     "execution_count": 14,
     "metadata": {},
     "output_type": "execute_result"
    }
   ],
   "source": [
    "'''\n",
    "Q2. Create a program that takes a sentence from the user and counts the\n",
    "number of vowels (a, e, i, o, u) in the string.\n",
    "'''"
   ]
  },
  {
   "cell_type": "code",
   "execution_count": 16,
   "id": "34805646-810f-4503-a992-f842f85fdb55",
   "metadata": {},
   "outputs": [
    {
     "name": "stdin",
     "output_type": "stream",
     "text": [
      "Enter a sentence This is a good example\n"
     ]
    },
    {
     "name": "stdout",
     "output_type": "stream",
     "text": [
      "Count of a is \n",
      "2\n",
      "Count of e is \n",
      "2\n",
      "Count of i is \n",
      "2\n",
      "Count of o is \n",
      "2\n",
      "Count of u is \n",
      "0\n"
     ]
    }
   ],
   "source": [
    "s = input(\"Enter a sentence\")\n",
    "print(\"Count of a is \")\n",
    "a=s.count('a')\n",
    "print(a)\n",
    "\n",
    "print(\"Count of e is \")\n",
    "e = s.count('e')\n",
    "print(e)\n",
    "\n",
    "print(\"Count of i is \")\n",
    "i = s.count('i')\n",
    "print(i)\n",
    "\n",
    "print(\"Count of o is \")\n",
    "o = s.count('o')\n",
    "print(o)\n",
    "\n",
    "print(\"Count of u is \")\n",
    "u=s.count('u')\n",
    "print(u)\n"
   ]
  },
  {
   "cell_type": "code",
   "execution_count": 17,
   "id": "7486b708-f8d2-4a0f-89f4-3e7b9347651d",
   "metadata": {},
   "outputs": [
    {
     "data": {
      "text/plain": [
       "'\\nQ3. Given a string, reverse the order of characters using string slicing and\\nprint the reversed string.\\n'"
      ]
     },
     "execution_count": 17,
     "metadata": {},
     "output_type": "execute_result"
    }
   ],
   "source": [
    "'''\n",
    "Q3. Given a string, reverse the order of characters using string slicing and\n",
    "print the reversed string.\n",
    "'''"
   ]
  },
  {
   "cell_type": "code",
   "execution_count": 18,
   "id": "61840b2e-c848-4f99-b8c0-95a4b9527af5",
   "metadata": {},
   "outputs": [
    {
     "data": {
      "text/plain": [
       "'gnirtS neviG'"
      ]
     },
     "execution_count": 18,
     "metadata": {},
     "output_type": "execute_result"
    }
   ],
   "source": [
    "s1 = 'Given String'\n",
    "s1[::-1]"
   ]
  },
  {
   "cell_type": "code",
   "execution_count": 20,
   "id": "f8af00eb-1b29-498e-bd0e-849c463ed9cc",
   "metadata": {},
   "outputs": [
    {
     "data": {
      "text/plain": [
       "'\\nQ4. Write a program that takes a string as input and checks if it is a\\npalindrome (reads the same forwards and backwards).\\n'"
      ]
     },
     "execution_count": 20,
     "metadata": {},
     "output_type": "execute_result"
    }
   ],
   "source": [
    "'''\n",
    "Q4. Write a program that takes a string as input and checks if it is a\n",
    "palindrome (reads the same forwards and backwards).\n",
    "'''"
   ]
  },
  {
   "cell_type": "code",
   "execution_count": 24,
   "id": "838992f4-1c43-464a-a789-524e2b50ec13",
   "metadata": {},
   "outputs": [
    {
     "name": "stdin",
     "output_type": "stream",
     "text": [
      "Enter a String jkdf\n"
     ]
    },
    {
     "name": "stdout",
     "output_type": "stream",
     "text": [
      "Entered String is not a  palindrome\n"
     ]
    }
   ],
   "source": [
    "s2 = input(\"Enter a String\")\n",
    "s3 = s2[::-1]\n",
    "if(s2 == s3):\n",
    "    print(\"Entered String is palindrome\")\n",
    "else:\n",
    "    print(\"Entered String is not a  palindrome\")\n",
    "        "
   ]
  },
  {
   "cell_type": "code",
   "execution_count": 25,
   "id": "748ee9ce-5a21-455c-a404-659ed2613f7d",
   "metadata": {},
   "outputs": [
    {
     "data": {
      "text/plain": [
       "'\\nQ5. Create a program that takes a string as input and removes all the\\nspaces from it. Print the modified string without spaces.\\n'"
      ]
     },
     "execution_count": 25,
     "metadata": {},
     "output_type": "execute_result"
    }
   ],
   "source": [
    "'''\n",
    "Q5. Create a program that takes a string as input and removes all the\n",
    "spaces from it. Print the modified string without spaces.\n",
    "'''"
   ]
  },
  {
   "cell_type": "code",
   "execution_count": 33,
   "id": "0ca45cd3-a390-420e-aa09-889c63dc5ae3",
   "metadata": {},
   "outputs": [
    {
     "name": "stdin",
     "output_type": "stream",
     "text": [
      "Enter a String kdfjvns siufv fvi inv\n"
     ]
    },
    {
     "name": "stdout",
     "output_type": "stream",
     "text": [
      "The string without spaces is \n",
      "kdfjvnssiufvfviinv\n"
     ]
    }
   ],
   "source": [
    "s4 = input(\"Enter a String\")\n",
    "s=''\n",
    "\n",
    "#Using split function to separate words\n",
    "l1 = s4.split()\n",
    "for i in l1:\n",
    "    s=s+i\n",
    "print(\"The string without spaces is \")\n",
    "print(s)"
   ]
  },
  {
   "cell_type": "code",
   "execution_count": null,
   "id": "aa7b0c93-760e-406a-9b0c-7c4d22ae8e57",
   "metadata": {},
   "outputs": [],
   "source": []
  }
 ],
 "metadata": {
  "kernelspec": {
   "display_name": "Python 3 (ipykernel)",
   "language": "python",
   "name": "python3"
  },
  "language_info": {
   "codemirror_mode": {
    "name": "ipython",
    "version": 3
   },
   "file_extension": ".py",
   "mimetype": "text/x-python",
   "name": "python",
   "nbconvert_exporter": "python",
   "pygments_lexer": "ipython3",
   "version": "3.10.8"
  }
 },
 "nbformat": 4,
 "nbformat_minor": 5
}
